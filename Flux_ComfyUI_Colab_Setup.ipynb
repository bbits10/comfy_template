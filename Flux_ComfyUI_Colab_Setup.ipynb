{
 "cells": [
  {
   "cell_type": "markdown",
   "id": "7cad05ee",
   "metadata": {},
   "source": [
    "# ComfyUI FLUX Setup for Google Colab\n",
    "This notebook adapts the `flux_install.sh` script for use in Google Colab to set up ComfyUI with FLUX-specific nodes and dependencies."
   ]
  },
  {
   "cell_type": "markdown",
   "id": "a23e5362",
   "metadata": {},
   "source": [
    "## 1. Configuration"
   ]
  },
  {
   "cell_type": "markdown",
   "id": "010c2704",
   "metadata": {},
   "source": [
    "## 1.1. Mount Google Drive (Optional)"
   ]
  },
  {
   "cell_type": "code",
   "execution_count": null,
   "id": "5d417009",
   "metadata": {},
   "outputs": [],
   "source": [
    "from google.colab import drive\n",
    "drive.mount('/content/drive')\n",
    "\n",
    "# You can then access your Drive files at /content/drive/MyDrive/"
   ]
  },
  {
   "cell_type": "code",
   "execution_count": null,
   "id": "aa5924b4",
   "metadata": {},
   "outputs": [],
   "source": [
    "# --- Configuration ---\n",
    "COMFYUI_DIR = \"/content/ComfyUI\"  # Main directory for ComfyUI installation in Colab\n",
    "UPDATE_COMFY_UI = True       # Set to False to disable ComfyUI git pull if already cloned\n",
    "INSTALL_CUSTOM_NODES_DEPENDENCIES = True\n",
    "USE_COMFYUI_MANAGER = True\n",
    "INSTALL_SAGEATTENTION = \"background\" # \"true\", \"false\", or \"background\" (background not directly applicable in Colab, will be 'true')\n",
    "\n",
    "print(f\"Target Directory: {COMFYUI_DIR}\")\n",
    "print(f\"Update ComfyUI: {UPDATE_COMFY_UI}\")\n",
    "print(f\"Install Custom Nodes & Dependencies: {INSTALL_CUSTOM_NODES_DEPENDENCIES}\")\n",
    "print(f\"Use ComfyUI Manager: {USE_COMFYUI_MANAGER}\")\n",
    "print(f\"SageAttention Installation: {INSTALL_SAGEATTENTION}\")"
   ]
  },
  {
   "cell_type": "markdown",
   "id": "f2abb68d",
   "metadata": {},
   "source": [
    "## 2. Create Directories and Clone ComfyUI"
   ]
  },
  {
   "cell_type": "code",
   "execution_count": null,
   "id": "69b43c50",
   "metadata": {},
   "outputs": [],
   "source": [
    "import os\n",
    "\n",
    "# Create parent directory for COMFYUI_DIR if it doesn't exist\n",
    "if not os.path.exists(os.path.dirname(COMFYUI_DIR)):\n",
    "    os.makedirs(os.path.dirname(COMFYUI_DIR))\n",
    "\n",
    "os.chdir(os.path.dirname(COMFYUI_DIR)) # Navigate to parent directory\n",
    "\n",
    "if not os.path.exists(COMFYUI_DIR):\n",
    "    print(\"--- Cloning ComfyUI ---\")\n",
    "    !git clone https://github.com/comfyanonymous/ComfyUI.git \"{COMFYUI_DIR}\"\n",
    "    os.chdir(COMFYUI_DIR)\n",
    "else:\n",
    "    os.chdir(COMFYUI_DIR)\n",
    "    if UPDATE_COMFY_UI:\n",
    "        print(\"--- Updating ComfyUI ---\")\n",
    "        !git pull\n",
    "    else:\n",
    "        print(\"--- ComfyUI exists, skipping update as per configuration. ---\")"
   ]
  },
  {
   "cell_type": "markdown",
   "id": "4ac81ec0",
   "metadata": {},
   "source": [
    "## 3. Install ComfyUI Main Dependencies"
   ]
  },
  {
   "cell_type": "code",
   "execution_count": null,
   "id": "63c15e41",
   "metadata": {},
   "outputs": [],
   "source": [
    "print(\"--- Installing ComfyUI main dependencies (from requirements.txt) ---\")\n",
    "%pip install -r requirements.txt"
   ]
  },
  {
   "cell_type": "markdown",
   "id": "c23f0a76",
   "metadata": {},
   "source": [
    "## 4. Install Additional Core Dependencies"
   ]
  },
  {
   "cell_type": "code",
   "execution_count": null,
   "id": "6f25e3bf",
   "metadata": {},
   "outputs": [],
   "source": [
    "print(\"--- Installing additional core dependencies ---\")\n",
    "%pip install accelerate einops transformers>=4.28.1 safetensors>=0.4.2 aiohttp pyyaml Pillow scipy tqdm psutil tokenizers>=0.13.3\n",
    "%pip install torchsde\n",
    "%pip install kornia>=0.7.1 spandrel soundfile sentencepiece\n",
    "%pip install imageio-ffmpeg  # For VHS_VideoCombine node"
   ]
  },
  {
   "cell_type": "markdown",
   "id": "9e709996",
   "metadata": {},
   "source": [
    "## 5. Install prerequisites for ComfyUI-Manager CLI"
   ]
  },
  {
   "cell_type": "code",
   "execution_count": null,
   "id": "948b00eb",
   "metadata": {},
   "outputs": [],
   "source": [
    "print(\"--- Installing GitPython and Typer (for ComfyUI-Manager CLI) ---\")\n",
    "%pip install GitPython typer"
   ]
  },
  {
   "cell_type": "markdown",
   "id": "9995b748",
   "metadata": {},
   "source": [
    "## 6. Setup ComfyUI-Manager"
   ]
  },
  {
   "cell_type": "code",
   "execution_count": null,
   "id": "b8f7e6be",
   "metadata": {},
   "outputs": [],
   "source": [
    "if USE_COMFYUI_MANAGER:\n",
    "    print(\"--- Setting up ComfyUI-Manager ---\")\n",
    "    MANAGER_DIR = os.path.join(COMFYUI_DIR, \"custom_nodes/ComfyUI-Manager\")\n",
    "    if not os.path.exists(MANAGER_DIR):\n",
    "        print(\"Cloning ComfyUI-Manager...\")\n",
    "        !git clone https://github.com/ltdrdata/ComfyUI-Manager.git \"{MANAGER_DIR}\"\n",
    "    else:\n",
    "        print(\"Updating ComfyUI-Manager...\")\n",
    "        os.chdir(MANAGER_DIR)\n",
    "        !git pull\n",
    "        os.chdir(COMFYUI_DIR) # Return to ComfyUI base\n",
    "\n",
    "    # Install requirements for ComfyUI-Manager\n",
    "    manager_req_file = os.path.join(MANAGER_DIR, \"requirements.txt\")\n",
    "    if os.path.exists(manager_req_file):\n",
    "        print(\"Installing ComfyUI-Manager's own requirements...\")\n",
    "        %pip install -r \"{manager_req_file}\"\n",
    "\n",
    "    print(\"Attempting to restore dependencies via ComfyUI-Manager CLI...\")\n",
    "    # Note: The cm-cli.py script might need adjustments or specific handling in Colab\n",
    "    # For now, we call it directly. Ensure it's executable if needed.\n",
    "    !python \"{os.path.join(MANAGER_DIR, 'cm-cli.py')}\" restore-dependencies"
   ]
  },
  {
   "cell_type": "markdown",
   "id": "6aeaf249",
   "metadata": {},
   "source": [
    "## 7. Install Custom Nodes and Their Dependencies"
   ]
  },
  {
   "cell_type": "code",
   "execution_count": null,
   "id": "b3c10486",
   "metadata": {},
   "outputs": [],
   "source": [
    "if INSTALL_CUSTOM_NODES_DEPENDENCIES:\n",
    "    print(\"--- Installing Custom Nodes & Their Dependencies ---\")\n",
    "    CUSTOM_NODES_DIR = os.path.join(COMFYUI_DIR, \"custom_nodes\")\n",
    "    if not os.path.exists(CUSTOM_NODES_DIR):\n",
    "        os.makedirs(CUSTOM_NODES_DIR)\n",
    "    os.chdir(CUSTOM_NODES_DIR)\n",
    "\n",
    "    CUSTOM_NODES_REPOS = [\n",
    "        \"https://github.com/Kosinkadink/ComfyUI-VideoHelperSuite\",\n",
    "        \"https://github.com/civitai/civitai_comfy_nodes\",\n",
    "        \"https://github.com/kijai/ComfyUI-KJNodes\",\n",
    "        \"https://github.com/cubiq/ComfyUI_essentials\",\n",
    "        \"https://github.com/sipherxyz/comfyui-art-venture\",\n",
    "        \"https://github.com/twri/sdxl_prompt_styler\",\n",
    "        \"https://github.com/Nourepide/ComfyUI-Allor\",\n",
    "        \"https://github.com/Extraltodeus/sigmas_tools_and_the_golden_scheduler\",\n",
    "        \"https://github.com/rgthree/rgthree-comfy\",\n",
    "        \"https://github.com/pollockjj/ComfyUI-MultiGPU\",\n",
    "        \"https://github.com/daxcay/ComfyUI-JDCN\",\n",
    "        \"https://github.com/city96/ComfyUI-GGUF\",\n",
    "        \"https://github.com/calcuis/gguf\",\n",
    "        \"https://github.com/kijai/ComfyUI-GIMM-VFI\"\n",
    "    ]\n",
    "\n",
    "    for repo_url in CUSTOM_NODES_REPOS:\n",
    "        repo_name = repo_url.split('/')[-1].replace('.git', '')\n",
    "        if not os.path.exists(repo_name):\n",
    "            print(f\"Cloning {repo_name}...\")\n",
    "            !git clone {repo_url} {repo_name}\n",
    "        else:\n",
    "            print(f\"Updating {repo_name}...\")\n",
    "            os.chdir(repo_name)\n",
    "            !git pull\n",
    "            os.chdir(CUSTOM_NODES_DIR) # Go back to custom_nodes directory\n",
    "\n",
    "    # Install requirements for specific nodes\n",
    "    NODES_WITH_REQS = [\"ComfyUI-GGUF\", \"ComfyUI-JDCN\", \"ComfyUI-KJNodes\"]\n",
    "    for node_name in NODES_WITH_REQS:\n",
    "        node_req_file = os.path.join(CUSTOM_NODES_DIR, node_name, \"requirements.txt\")\n",
    "        if os.path.exists(node_req_file):\n",
    "            print(f\"Installing dependencies for {node_name}...\")\n",
    "            %pip install -r \"{node_req_file}\"\n",
    "\n",
    "    # Special handling for was-node-suite-comfyui\n",
    "    WAS_NODE_DIR_NAME = \"was-node-suite-comfyui\"\n",
    "    WAS_NODE_REPO = \"https://github.com/WASasquatch/was-node-suite-comfyui.git\"\n",
    "    if not os.path.exists(WAS_NODE_DIR_NAME):\n",
    "        print(f\"Cloning {WAS_NODE_DIR_NAME}...\")\n",
    "        !git clone {WAS_NODE_REPO} {WAS_NODE_DIR_NAME}\n",
    "    else:\n",
    "        print(f\"Updating {WAS_NODE_DIR_NAME}...\")\n",
    "        os.chdir(WAS_NODE_DIR_NAME)\n",
    "        !git pull\n",
    "        os.chdir(CUSTOM_NODES_DIR) # Go back to custom_nodes directory\n",
    "    \n",
    "    was_req_file = os.path.join(CUSTOM_NODES_DIR, WAS_NODE_DIR_NAME, \"requirements.txt\")\n",
    "    if os.path.exists(was_req_file):\n",
    "        print(f\"Installing dependencies for {WAS_NODE_DIR_NAME}...\")\n",
    "        %pip install -r \"{was_req_file}\"\n",
    "\n",
    "    os.chdir(COMFYUI_DIR) # Return to the main ComfyUI directory"
   ]
  },
  {
   "cell_type": "markdown",
   "id": "10ec8f02",
   "metadata": {},
   "source": [
    "## 8. Clone FFmpeg (Optional - for building from source, usually not needed in Colab)"
   ]
  },
  {
   "cell_type": "code",
   "execution_count": null,
   "id": "1954ee5c",
   "metadata": {},
   "outputs": [],
   "source": [
    "print(\"--- Cloning FFmpeg source (optional) ---\")\n",
    "os.chdir(COMFYUI_DIR)\n",
    "if not os.path.exists(\"ffmpeg\"):\n",
    "    print(\"Cloning FFmpeg repository...\")\n",
    "    !git clone https://git.ffmpeg.org/ffmpeg.git ffmpeg # Clone into a directory named ffmpeg\n",
    "else:\n",
    "    print(\"FFmpeg directory already exists. Skipping clone.\")"
   ]
  },
  {
   "cell_type": "markdown",
   "id": "f814539e",
   "metadata": {},
   "source": [
    "## 9. Install gguf-node"
   ]
  },
  {
   "cell_type": "code",
   "execution_count": null,
   "id": "a0884d20",
   "metadata": {},
   "outputs": [],
   "source": [
    "print(\"--- Installing gguf-node ---\")\n",
    "%pip install gguf-node"
   ]
  },
  {
   "cell_type": "markdown",
   "id": "e6d6c8f5",
   "metadata": {},
   "source": [
    "## 10. Install SageAttention"
   ]
  },
  {
   "cell_type": "code",
   "execution_count": null,
   "id": "c6163017",
   "metadata": {},
   "outputs": [],
   "source": [
    "# In Colab, 'background' installation isn't directly applicable like in a shell script.\n",
    "# We'll treat 'background' as 'true'.\n",
    "if INSTALL_SAGEATTENTION != \"false\":\n",
    "    print(f\"--- Setting up SageAttention (mode: {INSTALL_SAGEATTENTION}) ---\")\n",
    "    os.chdir(COMFYUI_DIR) # Ensure we are in the ComfyUI directory\n",
    "    SAGE_DIR = os.path.join(COMFYUI_DIR, \"SageAttention\")\n",
    "    if not os.path.exists(SAGE_DIR):\n",
    "        print(\"Cloning SageAttention repository...\")\n",
    "        !git clone https://github.com/thu-ml/SageAttention.git SageAttention\n",
    "    else:\n",
    "        print(\"SageAttention directory already exists. Updating...\")\n",
    "        os.chdir(SAGE_DIR)\n",
    "        !git pull\n",
    "        os.chdir(COMFYUI_DIR) # Return to ComfyUI base\n",
    "\n",
    "    # Install SageAttention\n",
    "    # The original script had a complex backgrounding logic here.\n",
    "    # For Colab, we'll do a direct install.\n",
    "    print(\"Installing SageAttention... (This may take a while)\")\n",
    "    os.chdir(SAGE_DIR) # Navigate into SageAttention directory\n",
    "    !python setup.py install\n",
    "    os.chdir(COMFYUI_DIR) # Return to ComfyUI base\n",
    "    print(\"SageAttention installation attempted.\")\n",
    "else:\n",
    "    print(\"--- Skipping SageAttention installation as per configuration. ---\")"
   ]
  },
  {
   "cell_type": "markdown",
   "id": "de7312b0",
   "metadata": {},
   "source": [
    "## 11. Download Models (Placeholder)"
   ]
  },
  {
   "cell_type": "code",
   "execution_count": null,
   "id": "b9ddcd62",
   "metadata": {},
   "outputs": [],
   "source": [
    "# This section corresponds to model_downloader.py\n",
    "print(\"--- Model Downloading ---\")\n",
    "\n",
    "# 1. Define your GitHub repository and the path to the files\n",
    "YOUR_REPO_URL = \"https://github.com/bbits10/comfy_template.git\"\n",
    "# If model_downloader.py and model_configs.json are in a subdirectory of your repo, adjust this path:\n",
    "PATH_TO_FILES_IN_REPO = \"\" # e.g., \"scripts/\" or \"\" if they are in the root\n",
    "\n",
    "# 2. Clone your repository\n",
    "print(f\"Cloning repository: {YOUR_REPO_URL}\")\n",
    "REPO_NAME = YOUR_REPO_URL.split('/')[-1].replace('.git', '')\n",
    "CLONED_REPO_PATH = f\"/content/{REPO_NAME}\"\n",
    "\n",
    "# Check if the repository directory already exists\n",
    "if os.path.exists(CLONED_REPO_PATH):\n",
    "    print(f\"Repository already cloned at {CLONED_REPO_PATH}. Skipping clone.\")\n",
    "else:\n",
    "    !git clone {YOUR_REPO_URL} {CLONED_REPO_PATH}\n",
    "\n",
    "# 3. Copy model_downloader.py and model_configs.json to COMFYUI_DIR\n",
    "print(f\"Copying model downloader script and config to {COMFYUI_DIR}\")\n",
    "MODEL_DOWNLOADER_SCRIPT_SOURCE = os.path.join(CLONED_REPO_PATH, PATH_TO_FILES_IN_REPO, \"model_downloader.py\")\n",
    "MODEL_CONFIGS_JSON_SOURCE = os.path.join(CLONED_REPO_PATH, PATH_TO_FILES_IN_REPO, \"model_configs.json\")\n",
    "\n",
    "MODEL_DOWNLOADER_SCRIPT_DEST = os.path.join(COMFYUI_DIR, \"model_downloader.py\")\n",
    "MODEL_CONFIGS_JSON_DEST = os.path.join(COMFYUI_DIR, \"model_configs.json\")\n",
    "\n",
    "if os.path.exists(MODEL_DOWNLOADER_SCRIPT_SOURCE):\n",
    "    !cp -f {MODEL_DOWNLOADER_SCRIPT_SOURCE} {MODEL_DOWNLOADER_SCRIPT_DEST} # Added -f to overwrite if exists\n",
    "    print(f\"Copied model_downloader.py to {MODEL_DOWNLOADER_SCRIPT_DEST}\")\n",
    "else:\n",
    "    print(f\"ERROR: model_downloader.py not found at {MODEL_DOWNLOADER_SCRIPT_SOURCE}\")\n",
    "\n",
    "if os.path.exists(MODEL_CONFIGS_JSON_SOURCE):\n",
    "    !cp -f {MODEL_CONFIGS_JSON_SOURCE} {MODEL_CONFIGS_JSON_DEST} # Added -f to overwrite if exists\n",
    "    print(f\"Copied model_configs.json to {MODEL_CONFIGS_JSON_DEST}\")\n",
    "else:\n",
    "    print(f\"ERROR: model_configs.json not found at {MODEL_CONFIGS_JSON_SOURCE}\")\n",
    "\n",
    "# 4. Run the model downloader script\n",
    "# Ensure model_downloader.py is executable if needed: !chmod +x {MODEL_DOWNLOADER_SCRIPT_DEST}\n",
    "print(\"Running model_downloader.py...\")\n",
    "os.chdir(COMFYUI_DIR) # Ensure we are in the ComfyUI directory\n",
    "\n",
    "# Check if the script and config exist before running\n",
    "if os.path.exists(MODEL_DOWNLOADER_SCRIPT_DEST) and os.path.exists(MODEL_CONFIGS_JSON_DEST):\n",
    "    # Assuming model_downloader.py looks for model_configs.json in its current directory or a predefined path\n",
    "    # If it takes the config path as an argument, modify the command below, e.g.:\n",
    "    # !python model_downloader.py --config model_configs.json\n",
    "    !python model_downloader.py\n",
    "    print(\"Model downloader script executed.\")\n",
    "else:\n",
    "    print(\"Skipping model_downloader.py execution due to missing files.\")\n",
    "\n",
    "# Fallback or direct download example (if model_downloader.py fails or is not used)\n",
    "# print(\"--- Example: Downloading a specific model manually ---\")\n",
    "# SDXL_MODELS_DIR = os.path.join(COMFYUI_DIR, 'models', 'checkpoints')\n",
    "# if not os.path.exists(SDXL_MODELS_DIR):\n",
    "#     os.makedirs(SDXL_MODELS_DIR)\n",
    "# !wget -P {SDXL_MODELS_DIR} https://huggingface.co/stabilityai/stable-diffusion-xl-base-1.0/resolve/main/sd_xl_base_1.0.safetensors\n",
    "# print(\"Manual model download example complete.\")"
   ]
  },
  {
   "cell_type": "markdown",
   "id": "e48ab6b1",
   "metadata": {},
   "source": [
    "## 12. Final Steps & Starting ComfyUI"
   ]
  },
  {
   "cell_type": "code",
   "execution_count": null,
   "id": "8e46816f",
   "metadata": {},
   "outputs": [],
   "source": [
    "print(\"--- Setup Complete ---\")\n",
    "print(f\"ComfyUI should be installed in: {COMFYUI_DIR}\")\n",
    "print(\"Starting ComfyUI with cloudflared tunnel...\")\n",
    "\n",
    "# 1. Download and Install cloudflared\n",
    "print(\"\\n--- Installing cloudflared ---\")\n",
    "!wget -q -P /tmp https://github.com/cloudflare/cloudflared/releases/latest/download/cloudflared-linux-amd64.deb\n",
    "!dpkg -i /tmp/cloudflared-linux-amd64.deb\n",
    "\n",
    "# 2. Define function to start cloudflared tunnel\n",
    "import subprocess\n",
    "import threading\n",
    "import time\n",
    "import socket\n",
    "import urllib.request\n",
    "import os\n",
    "\n",
    "comfyui_port = 8188 # Default ComfyUI port\n",
    "\n",
    "def iframe_thread(port):\n",
    "  while True:\n",
    "      time.sleep(0.5)\n",
    "      sock = socket.socket(socket.AF_INET, socket.SOCK_STREAM)\n",
    "      result = sock.connect_ex(('127.0.0.1', port))\n",
    "      if result == 0:\n",
    "        break\n",
    "      sock.close()\n",
    "  print(\"\\nComfyUI finished loading, trying to launch cloudflared...\")\n",
    "  print(\"(If it gets stuck here, cloudflared might be having issues or ComfyUI didn't start correctly.)\\n\")\n",
    "\n",
    "  # Start cloudflared tunnel\n",
    "  p = subprocess.Popen([\"cloudflared\", \"tunnel\", \"--url\", f\"http://127.0.0.1:{port}\"], stdout=subprocess.PIPE, stderr=subprocess.PIPE)\n",
    "  for line in p.stderr:\n",
    "    l = line.decode()\n",
    "    if \"trycloudflare.com\" in l:\n",
    "      print(f\"\\n!!! THIS IS YOUR PUBLIC URL TO ACCESS COMFYUI !!!\\n{l[l.find('https'):].strip()}\\n\")\n",
    "    # You can uncomment the next line to see all cloudflared output for debugging\n",
    "    # print(l, end='')\n",
    "\n",
    "# 3. Start the ComfyUI server and the cloudflared tunnel\n",
    "os.chdir(COMFYUI_DIR) # Navigate to ComfyUI directory\n",
    "\n",
    "# Start cloudflared in a background thread\n",
    "threading.Thread(target=iframe_thread, daemon=True, args=(comfyui_port,)).start()\n",
    "\n",
    "print(f\"\\n--- Starting ComfyUI on port {comfyui_port} ---\")\n",
    "# Start ComfyUI. --dont-print-server is used as cloudflared provides the URL.\n",
    "# Use --preview-method auto for better preview generation in Colab if needed.\n",
    "!python main.py --listen --port {comfyui_port} --dont-print-server --preview-method auto"
   ]
  }
 ],
 "metadata": {
  "language_info": {
   "name": "python"
  }
 },
 "nbformat": 4,
 "nbformat_minor": 5
}
